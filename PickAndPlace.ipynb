{
  "cells": [
    {
      "cell_type": "markdown",
      "metadata": {
        "id": "view-in-github",
        "colab_type": "text"
      },
      "source": [
        "<a href=\"https://colab.research.google.com/github/johngunerli/jim/blob/master/PickAndPlace.ipynb\" target=\"_parent\"><img src=\"https://colab.research.google.com/assets/colab-badge.svg\" alt=\"Open In Colab\"/></a>"
      ]
    },
    {
      "cell_type": "markdown",
      "metadata": {
        "id": "TFFVaHq_7fSe"
      },
      "source": [
        "# `panda-gym` code example\n",
        "\n",
        "## Install `panda-gym`"
      ]
    },
    {
      "cell_type": "code",
      "execution_count": 1,
      "metadata": {
        "id": "ZRRBsPeKpc-t",
        "outputId": "f110631a-4cd6-4e68-b0c4-22fbf0cce489",
        "colab": {
          "base_uri": "https://localhost:8080/"
        }
      },
      "outputs": [
        {
          "output_type": "stream",
          "name": "stdout",
          "text": [
            "Collecting panda-gym\n",
            "  Downloading panda_gym-3.0.7-py3-none-any.whl (23 kB)\n",
            "Collecting gymnasium>=0.26 (from panda-gym)\n",
            "  Downloading gymnasium-0.29.1-py3-none-any.whl (953 kB)\n",
            "\u001b[2K     \u001b[90m━━━━━━━━━━━━━━━━━━━━━━━━━━━━━━━━━━━━━━━━\u001b[0m \u001b[32m953.9/953.9 kB\u001b[0m \u001b[31m6.8 MB/s\u001b[0m eta \u001b[36m0:00:00\u001b[0m\n",
            "\u001b[?25hCollecting pybullet (from panda-gym)\n",
            "  Downloading pybullet-3.2.6-cp310-cp310-manylinux_2_17_x86_64.manylinux2014_x86_64.whl (103.2 MB)\n",
            "\u001b[2K     \u001b[90m━━━━━━━━━━━━━━━━━━━━━━━━━━━━━━━━━━━━━━━━\u001b[0m \u001b[32m103.2/103.2 MB\u001b[0m \u001b[31m8.1 MB/s\u001b[0m eta \u001b[36m0:00:00\u001b[0m\n",
            "\u001b[?25hRequirement already satisfied: numpy in /usr/local/lib/python3.10/dist-packages (from panda-gym) (1.23.5)\n",
            "Requirement already satisfied: scipy in /usr/local/lib/python3.10/dist-packages (from panda-gym) (1.11.4)\n",
            "Requirement already satisfied: cloudpickle>=1.2.0 in /usr/local/lib/python3.10/dist-packages (from gymnasium>=0.26->panda-gym) (2.2.1)\n",
            "Requirement already satisfied: typing-extensions>=4.3.0 in /usr/local/lib/python3.10/dist-packages (from gymnasium>=0.26->panda-gym) (4.5.0)\n",
            "Collecting farama-notifications>=0.0.1 (from gymnasium>=0.26->panda-gym)\n",
            "  Downloading Farama_Notifications-0.0.4-py3-none-any.whl (2.5 kB)\n",
            "Installing collected packages: pybullet, farama-notifications, gymnasium, panda-gym\n",
            "Successfully installed farama-notifications-0.0.4 gymnasium-0.29.1 panda-gym-3.0.7 pybullet-3.2.6\n"
          ]
        }
      ],
      "source": [
        "%pip install panda-gym"
      ]
    },
    {
      "cell_type": "markdown",
      "metadata": {
        "id": "qE8atPQm870Q"
      },
      "source": [
        "## Interract"
      ]
    },
    {
      "cell_type": "code",
      "execution_count": null,
      "metadata": {
        "id": "q4Q-okI7pc-v"
      },
      "outputs": [],
      "source": [
        "import gymnasium as gym\n",
        "import panda_gym\n",
        "\n",
        "env = gym.make(\"PandaPickAndPlace-v3\", render_mode=\"rgb_array\")\n",
        "observation, info = env.reset()\n",
        "\n",
        "images = [env.render()]\n",
        "for _ in range(200):\n",
        "    action = env.action_space.sample()\n",
        "    observation, reward, terminated, truncated, info = env.step(action)\n",
        "    images.append(env.render())\n",
        "\n",
        "    if terminated or truncated:\n",
        "        observation, info = env.reset()\n",
        "        images.append(env.render())\n",
        "\n",
        "env.close()"
      ]
    },
    {
      "cell_type": "markdown",
      "metadata": {
        "id": "Nkl-EtEZ_EQH"
      },
      "source": [
        "## Convert into animation\n"
      ]
    },
    {
      "cell_type": "code",
      "execution_count": null,
      "metadata": {
        "id": "XTsRF-8Ppc-v"
      },
      "outputs": [],
      "source": [
        "%pip install numpngw\n",
        "from numpngw import write_apng\n",
        "\n",
        "write_apng(\"anim.png\", images, delay=40)  # real-time rendering = 40 ms between frames"
      ]
    },
    {
      "cell_type": "markdown",
      "metadata": {
        "id": "dFadL1ne_NG8"
      },
      "source": [
        "## Show animation"
      ]
    },
    {
      "cell_type": "code",
      "execution_count": null,
      "metadata": {
        "id": "8kZ9ltZbpc-w"
      },
      "outputs": [],
      "source": [
        "from IPython.display import Image\n",
        "\n",
        "Image(filename=\"anim.png\")"
      ]
    }
  ],
  "metadata": {
    "language_info": {
      "name": "python"
    },
    "colab": {
      "provenance": [],
      "include_colab_link": true
    },
    "kernelspec": {
      "name": "python3",
      "display_name": "Python 3"
    }
  },
  "nbformat": 4,
  "nbformat_minor": 0
}